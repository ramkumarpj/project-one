{
 "cells": [
  {
   "cell_type": "code",
   "execution_count": 2,
   "id": "90a31160",
   "metadata": {},
   "outputs": [],
   "source": [
    "import pandas as pd\n",
    "import numpy as np\n",
    "\n",
    "dfSample = pd.read_csv(\"ZILLOW-DATA.csv\")\n",
    "df = pd.read_csv(\"ZILLOW_DATA_962c837a6ccefddddf190101e0bafdaf.csv\")"
   ]
  },
  {
   "cell_type": "code",
   "execution_count": 3,
   "id": "a9f14c7f",
   "metadata": {},
   "outputs": [
    {
     "name": "stdout",
     "output_type": "stream",
     "text": [
      "<class 'pandas.core.frame.DataFrame'>\n",
      "RangeIndex: 89305 entries, 0 to 89304\n",
      "Data columns (total 3 columns):\n",
      " #   Column       Non-Null Count  Dtype \n",
      "---  ------       --------------  ----- \n",
      " 0   region_id    89305 non-null  int64 \n",
      " 1   region_type  89305 non-null  object\n",
      " 2   region       89305 non-null  object\n",
      "dtypes: int64(1), object(2)\n",
      "memory usage: 2.0+ MB\n",
      "\n",
      "There are no missing regions:\n",
      " None\n",
      "\n",
      "Here's the count of unique region columns:\n",
      " region_id      89305\n",
      "region_type        6\n",
      "region         89295\n",
      "dtype: int64\n"
     ]
    }
   ],
   "source": [
    "dfRegions = pd.read_csv(\"ZILLOW_REGIONS.csv\")\n",
    "print(\"\\nThere are no missing regions:\\n\",dfRegions.info())\n",
    "print(\"\\nHere's the count of unique region columns:\\n\",dfRegions.nunique())"
   ]
  },
  {
   "cell_type": "code",
   "execution_count": 4,
   "id": "8e6183b7",
   "metadata": {},
   "outputs": [
    {
     "name": "stdout",
     "output_type": "stream",
     "text": [
      "Here are the top 5 rows of the dataframe:\n",
      "   indicator_id  region_id        date     value\n",
      "0         ZATT       3101  1998-01-31  338849.0\n",
      "1         ZATT       3101  1998-02-28  342993.0\n",
      "2         ZATT       3101  1998-03-31  346763.0\n",
      "3         ZATT       3101  1998-04-30  349356.0\n",
      "4         ZATT       3101  1998-05-31  351981.0\n",
      "<class 'pandas.core.frame.DataFrame'>\n",
      "RangeIndex: 151555917 entries, 0 to 151555916\n",
      "Data columns (total 4 columns):\n",
      " #   Column        Dtype  \n",
      "---  ------        -----  \n",
      " 0   indicator_id  object \n",
      " 1   region_id     int64  \n",
      " 2   date          object \n",
      " 3   value         float64\n",
      "dtypes: float64(1), int64(1), object(2)\n",
      "memory usage: 4.5+ GB\n",
      "\n",
      "Here are the columns with missing data:\n",
      " None\n",
      "\n",
      "Here's the count of unique values in the dataset:\n",
      " indicator_id          56\n",
      "region_id          89305\n",
      "date                1129\n",
      "value           82293706\n",
      "dtype: int64\n"
     ]
    }
   ],
   "source": [
    "print(\"Here are the top 5 rows of the dataframe:\\n\",df.head())\n",
    "print(\"\\nHere are the columns with missing data:\\n\",df.info())\n",
    "print(\"\\nHere's the count of unique values in the dataset:\\n\",df.nunique())"
   ]
  },
  {
   "cell_type": "code",
   "execution_count": 5,
   "id": "21582057",
   "metadata": {},
   "outputs": [
    {
     "name": "stdout",
     "output_type": "stream",
     "text": [
      "There are no null values:\n",
      " indicator_id    0\n",
      "region_id       0\n",
      "date            0\n",
      "value           0\n",
      "dtype: int64\n",
      "\n",
      "Here are the row and column counts for the data: (151555917, 4)\n"
     ]
    }
   ],
   "source": [
    "print(\"There are no null values:\\n\",df.isnull().sum())\n",
    "print(\"\\nHere are the row and column counts for the data:\",df.shape)"
   ]
  },
  {
   "cell_type": "code",
   "execution_count": 6,
   "id": "a0fa10e8",
   "metadata": {},
   "outputs": [
    {
     "name": "stdout",
     "output_type": "stream",
     "text": [
      "1996-01-31\n",
      "2023-11-04\n"
     ]
    }
   ],
   "source": [
    "print(df['date'].min())\n",
    "print(df['date'].max())"
   ]
  },
  {
   "cell_type": "code",
   "execution_count": 7,
   "id": "62516b9e",
   "metadata": {},
   "outputs": [
    {
     "data": {
      "text/html": [
       "<div>\n",
       "<style scoped>\n",
       "    .dataframe tbody tr th:only-of-type {\n",
       "        vertical-align: middle;\n",
       "    }\n",
       "\n",
       "    .dataframe tbody tr th {\n",
       "        vertical-align: top;\n",
       "    }\n",
       "\n",
       "    .dataframe thead th {\n",
       "        text-align: right;\n",
       "    }\n",
       "</style>\n",
       "<table border=\"1\" class=\"dataframe\">\n",
       "  <thead>\n",
       "    <tr style=\"text-align: right;\">\n",
       "      <th></th>\n",
       "      <th>region_id</th>\n",
       "      <th>region_type</th>\n",
       "      <th>region</th>\n",
       "    </tr>\n",
       "  </thead>\n",
       "  <tbody>\n",
       "    <tr>\n",
       "      <th>0</th>\n",
       "      <td>394401</td>\n",
       "      <td>metro</td>\n",
       "      <td>Boone, IA; IA</td>\n",
       "    </tr>\n",
       "    <tr>\n",
       "      <th>1</th>\n",
       "      <td>274772</td>\n",
       "      <td>neigh</td>\n",
       "      <td>Northeast Dallas; TX; Dallas-Fort Worth-Arling...</td>\n",
       "    </tr>\n",
       "    <tr>\n",
       "      <th>2</th>\n",
       "      <td>273698</td>\n",
       "      <td>neigh</td>\n",
       "      <td>Far North; TX; Dallas-Fort Worth-Arlington, TX...</td>\n",
       "    </tr>\n",
       "    <tr>\n",
       "      <th>3</th>\n",
       "      <td>275473</td>\n",
       "      <td>neigh</td>\n",
       "      <td>Southeast Dallas; TX; Dallas-Fort Worth-Arling...</td>\n",
       "    </tr>\n",
       "    <tr>\n",
       "      <th>4</th>\n",
       "      <td>9</td>\n",
       "      <td>state</td>\n",
       "      <td>California</td>\n",
       "    </tr>\n",
       "  </tbody>\n",
       "</table>\n",
       "</div>"
      ],
      "text/plain": [
       "   region_id region_type                                             region\n",
       "0     394401       metro                                      Boone, IA; IA\n",
       "1     274772       neigh  Northeast Dallas; TX; Dallas-Fort Worth-Arling...\n",
       "2     273698       neigh  Far North; TX; Dallas-Fort Worth-Arlington, TX...\n",
       "3     275473       neigh  Southeast Dallas; TX; Dallas-Fort Worth-Arling...\n",
       "4          9       state                                         California"
      ]
     },
     "execution_count": 7,
     "metadata": {},
     "output_type": "execute_result"
    }
   ],
   "source": [
    "dfRegions.head()\n"
   ]
  },
  {
   "cell_type": "code",
   "execution_count": 21,
   "id": "7ecc53d2-8a7e-4706-989e-fd7763c8edee",
   "metadata": {},
   "outputs": [
    {
     "data": {
      "text/html": [
       "<div>\n",
       "<style scoped>\n",
       "    .dataframe tbody tr th:only-of-type {\n",
       "        vertical-align: middle;\n",
       "    }\n",
       "\n",
       "    .dataframe tbody tr th {\n",
       "        vertical-align: top;\n",
       "    }\n",
       "\n",
       "    .dataframe thead th {\n",
       "        text-align: right;\n",
       "    }\n",
       "</style>\n",
       "<table border=\"1\" class=\"dataframe\">\n",
       "  <thead>\n",
       "    <tr style=\"text-align: right;\">\n",
       "      <th></th>\n",
       "      <th>region_id</th>\n",
       "      <th>region_type</th>\n",
       "      <th>region</th>\n",
       "      <th>zip</th>\n",
       "    </tr>\n",
       "  </thead>\n",
       "  <tbody>\n",
       "    <tr>\n",
       "      <th>9</th>\n",
       "      <td>58011</td>\n",
       "      <td>zip</td>\n",
       "      <td>00612; MI; Crawford County; Frederic</td>\n",
       "      <td>00612</td>\n",
       "    </tr>\n",
       "    <tr>\n",
       "      <th>13</th>\n",
       "      <td>58051</td>\n",
       "      <td>zip</td>\n",
       "      <td>00693; PA; Pittsburgh; Westmoreland County; Gr...</td>\n",
       "      <td>00693</td>\n",
       "    </tr>\n",
       "    <tr>\n",
       "      <th>17</th>\n",
       "      <td>58109</td>\n",
       "      <td>zip</td>\n",
       "      <td>00795; AL; Auburn-Opelika; Lee County; Juana Diaz</td>\n",
       "      <td>00795</td>\n",
       "    </tr>\n",
       "    <tr>\n",
       "      <th>23</th>\n",
       "      <td>58129</td>\n",
       "      <td>zip</td>\n",
       "      <td>00907; AR; Forrest City; Saint Francis County;...</td>\n",
       "      <td>00907</td>\n",
       "    </tr>\n",
       "    <tr>\n",
       "      <th>91</th>\n",
       "      <td>92526</td>\n",
       "      <td>zip</td>\n",
       "      <td>78584; TX; Rio Grande City-Roma, TX; Starr County</td>\n",
       "      <td>78584</td>\n",
       "    </tr>\n",
       "    <tr>\n",
       "      <th>265</th>\n",
       "      <td>58004</td>\n",
       "      <td>zip</td>\n",
       "      <td>00602; AL; Auburn-Opelika; Lee County; Auburn</td>\n",
       "      <td>00602</td>\n",
       "    </tr>\n",
       "    <tr>\n",
       "      <th>269</th>\n",
       "      <td>62298</td>\n",
       "      <td>zip</td>\n",
       "      <td>11951; NY; New York-Newark-Jersey City, NY-NJ-...</td>\n",
       "      <td>11951</td>\n",
       "    </tr>\n",
       "    <tr>\n",
       "      <th>455</th>\n",
       "      <td>94610</td>\n",
       "      <td>zip</td>\n",
       "      <td>84627; UT; Sanpete County; Ephraim</td>\n",
       "      <td>84627</td>\n",
       "    </tr>\n",
       "    <tr>\n",
       "      <th>534</th>\n",
       "      <td>89510</td>\n",
       "      <td>zip</td>\n",
       "      <td>72370; AR; Blytheville, AR; Mississippi County...</td>\n",
       "      <td>72370</td>\n",
       "    </tr>\n",
       "    <tr>\n",
       "      <th>628</th>\n",
       "      <td>83982</td>\n",
       "      <td>zip</td>\n",
       "      <td>59255; MT; Roosevelt County; Poplar</td>\n",
       "      <td>59255</td>\n",
       "    </tr>\n",
       "    <tr>\n",
       "      <th>668</th>\n",
       "      <td>89144</td>\n",
       "      <td>zip</td>\n",
       "      <td>71643; AR; Pine Bluff, AR; Lincoln County; Gould</td>\n",
       "      <td>71643</td>\n",
       "    </tr>\n",
       "    <tr>\n",
       "      <th>696</th>\n",
       "      <td>58139</td>\n",
       "      <td>zip</td>\n",
       "      <td>00917; UT; Kane County; San Juan</td>\n",
       "      <td>00917</td>\n",
       "    </tr>\n",
       "    <tr>\n",
       "      <th>717</th>\n",
       "      <td>81573</td>\n",
       "      <td>zip</td>\n",
       "      <td>54129; WI; Appleton, WI; Calumet County; Woodv...</td>\n",
       "      <td>54129</td>\n",
       "    </tr>\n",
       "    <tr>\n",
       "      <th>736</th>\n",
       "      <td>91465</td>\n",
       "      <td>zip</td>\n",
       "      <td>76544; TX; Killeen-Temple; Bell County; Belton</td>\n",
       "      <td>76544</td>\n",
       "    </tr>\n",
       "    <tr>\n",
       "      <th>753</th>\n",
       "      <td>58056</td>\n",
       "      <td>zip</td>\n",
       "      <td>00705; UT; Kane County; Aibonito</td>\n",
       "      <td>00705</td>\n",
       "    </tr>\n",
       "    <tr>\n",
       "      <th>772</th>\n",
       "      <td>88594</td>\n",
       "      <td>zip</td>\n",
       "      <td>70441; LA; Baton Rouge, LA; Saint Helena Paris...</td>\n",
       "      <td>70441</td>\n",
       "    </tr>\n",
       "    <tr>\n",
       "      <th>811</th>\n",
       "      <td>73868</td>\n",
       "      <td>zip</td>\n",
       "      <td>36445; AL; Monroe County; Frisco City</td>\n",
       "      <td>36445</td>\n",
       "    </tr>\n",
       "    <tr>\n",
       "      <th>842</th>\n",
       "      <td>92713</td>\n",
       "      <td>zip</td>\n",
       "      <td>78853; TX; Eagle Pass; Maverick County</td>\n",
       "      <td>78853</td>\n",
       "    </tr>\n",
       "    <tr>\n",
       "      <th>905</th>\n",
       "      <td>58003</td>\n",
       "      <td>zip</td>\n",
       "      <td>00601; MS; Tippah County; Adjuntas</td>\n",
       "      <td>00601</td>\n",
       "    </tr>\n",
       "    <tr>\n",
       "      <th>922</th>\n",
       "      <td>69843</td>\n",
       "      <td>zip</td>\n",
       "      <td>28307; NC; Fayetteville; Cumberland County; Fo...</td>\n",
       "      <td>28307</td>\n",
       "    </tr>\n",
       "    <tr>\n",
       "      <th>923</th>\n",
       "      <td>89614</td>\n",
       "      <td>zip</td>\n",
       "      <td>72533; AR; Stone County</td>\n",
       "      <td>72533</td>\n",
       "    </tr>\n",
       "    <tr>\n",
       "      <th>927</th>\n",
       "      <td>85736</td>\n",
       "      <td>zip</td>\n",
       "      <td>62865; IL; Franklin County; Christopher</td>\n",
       "      <td>62865</td>\n",
       "    </tr>\n",
       "    <tr>\n",
       "      <th>936</th>\n",
       "      <td>86219</td>\n",
       "      <td>zip</td>\n",
       "      <td>63851; MO; Pemiscot County; Hayti</td>\n",
       "      <td>63851</td>\n",
       "    </tr>\n",
       "    <tr>\n",
       "      <th>956</th>\n",
       "      <td>88544</td>\n",
       "      <td>zip</td>\n",
       "      <td>70341; LA; Baton Rouge, LA; Assumption Parish;...</td>\n",
       "      <td>70341</td>\n",
       "    </tr>\n",
       "    <tr>\n",
       "      <th>983</th>\n",
       "      <td>65215</td>\n",
       "      <td>zip</td>\n",
       "      <td>17846; PA; Bloomsburg-Berwick, PA; Columbia Co...</td>\n",
       "      <td>17846</td>\n",
       "    </tr>\n",
       "  </tbody>\n",
       "</table>\n",
       "</div>"
      ],
      "text/plain": [
       "     region_id region_type                                             region  \\\n",
       "9        58011         zip               00612; MI; Crawford County; Frederic   \n",
       "13       58051         zip  00693; PA; Pittsburgh; Westmoreland County; Gr...   \n",
       "17       58109         zip  00795; AL; Auburn-Opelika; Lee County; Juana Diaz   \n",
       "23       58129         zip  00907; AR; Forrest City; Saint Francis County;...   \n",
       "91       92526         zip  78584; TX; Rio Grande City-Roma, TX; Starr County   \n",
       "265      58004         zip      00602; AL; Auburn-Opelika; Lee County; Auburn   \n",
       "269      62298         zip  11951; NY; New York-Newark-Jersey City, NY-NJ-...   \n",
       "455      94610         zip                 84627; UT; Sanpete County; Ephraim   \n",
       "534      89510         zip  72370; AR; Blytheville, AR; Mississippi County...   \n",
       "628      83982         zip                59255; MT; Roosevelt County; Poplar   \n",
       "668      89144         zip   71643; AR; Pine Bluff, AR; Lincoln County; Gould   \n",
       "696      58139         zip                   00917; UT; Kane County; San Juan   \n",
       "717      81573         zip  54129; WI; Appleton, WI; Calumet County; Woodv...   \n",
       "736      91465         zip     76544; TX; Killeen-Temple; Bell County; Belton   \n",
       "753      58056         zip                   00705; UT; Kane County; Aibonito   \n",
       "772      88594         zip  70441; LA; Baton Rouge, LA; Saint Helena Paris...   \n",
       "811      73868         zip              36445; AL; Monroe County; Frisco City   \n",
       "842      92713         zip             78853; TX; Eagle Pass; Maverick County   \n",
       "905      58003         zip                 00601; MS; Tippah County; Adjuntas   \n",
       "922      69843         zip  28307; NC; Fayetteville; Cumberland County; Fo...   \n",
       "923      89614         zip                            72533; AR; Stone County   \n",
       "927      85736         zip            62865; IL; Franklin County; Christopher   \n",
       "936      86219         zip                  63851; MO; Pemiscot County; Hayti   \n",
       "956      88544         zip  70341; LA; Baton Rouge, LA; Assumption Parish;...   \n",
       "983      65215         zip  17846; PA; Bloomsburg-Berwick, PA; Columbia Co...   \n",
       "\n",
       "       zip  \n",
       "9    00612  \n",
       "13   00693  \n",
       "17   00795  \n",
       "23   00907  \n",
       "91   78584  \n",
       "265  00602  \n",
       "269  11951  \n",
       "455  84627  \n",
       "534  72370  \n",
       "628  59255  \n",
       "668  71643  \n",
       "696  00917  \n",
       "717  54129  \n",
       "736  76544  \n",
       "753  00705  \n",
       "772  70441  \n",
       "811  36445  \n",
       "842  78853  \n",
       "905  00601  \n",
       "922  28307  \n",
       "923  72533  \n",
       "927  62865  \n",
       "936  63851  \n",
       "956  70341  \n",
       "983  17846  "
      ]
     },
     "execution_count": 21,
     "metadata": {},
     "output_type": "execute_result"
    }
   ],
   "source": [
    "dfRegions=dfRegions.loc[dfRegions['region_type']=='zip',:]\n",
    "dfRegions['zip']=dfRegions['region'].str.split(';',n=1,expand=True)[0]\n",
    "dfRegions.head(25)"
   ]
  },
  {
   "cell_type": "code",
   "execution_count": 24,
   "id": "7491a37f-5f08-429d-a54c-37c0a5e2c6d0",
   "metadata": {},
   "outputs": [
    {
     "data": {
      "text/html": [
       "<div>\n",
       "<style scoped>\n",
       "    .dataframe tbody tr th:only-of-type {\n",
       "        vertical-align: middle;\n",
       "    }\n",
       "\n",
       "    .dataframe tbody tr th {\n",
       "        vertical-align: top;\n",
       "    }\n",
       "\n",
       "    .dataframe thead th {\n",
       "        text-align: right;\n",
       "    }\n",
       "</style>\n",
       "<table border=\"1\" class=\"dataframe\">\n",
       "  <thead>\n",
       "    <tr style=\"text-align: right;\">\n",
       "      <th></th>\n",
       "      <th>region_id</th>\n",
       "      <th>region_type</th>\n",
       "      <th>region</th>\n",
       "      <th>zip</th>\n",
       "      <th>state</th>\n",
       "    </tr>\n",
       "  </thead>\n",
       "  <tbody>\n",
       "    <tr>\n",
       "      <th>9</th>\n",
       "      <td>58011</td>\n",
       "      <td>zip</td>\n",
       "      <td>00612; MI; Crawford County; Frederic</td>\n",
       "      <td>00612</td>\n",
       "      <td>MI</td>\n",
       "    </tr>\n",
       "    <tr>\n",
       "      <th>13</th>\n",
       "      <td>58051</td>\n",
       "      <td>zip</td>\n",
       "      <td>00693; PA; Pittsburgh; Westmoreland County; Gr...</td>\n",
       "      <td>00693</td>\n",
       "      <td>PA</td>\n",
       "    </tr>\n",
       "    <tr>\n",
       "      <th>17</th>\n",
       "      <td>58109</td>\n",
       "      <td>zip</td>\n",
       "      <td>00795; AL; Auburn-Opelika; Lee County; Juana Diaz</td>\n",
       "      <td>00795</td>\n",
       "      <td>AL</td>\n",
       "    </tr>\n",
       "    <tr>\n",
       "      <th>23</th>\n",
       "      <td>58129</td>\n",
       "      <td>zip</td>\n",
       "      <td>00907; AR; Forrest City; Saint Francis County;...</td>\n",
       "      <td>00907</td>\n",
       "      <td>AR</td>\n",
       "    </tr>\n",
       "    <tr>\n",
       "      <th>91</th>\n",
       "      <td>92526</td>\n",
       "      <td>zip</td>\n",
       "      <td>78584; TX; Rio Grande City-Roma, TX; Starr County</td>\n",
       "      <td>78584</td>\n",
       "      <td>TX</td>\n",
       "    </tr>\n",
       "  </tbody>\n",
       "</table>\n",
       "</div>"
      ],
      "text/plain": [
       "    region_id region_type                                             region  \\\n",
       "9       58011         zip               00612; MI; Crawford County; Frederic   \n",
       "13      58051         zip  00693; PA; Pittsburgh; Westmoreland County; Gr...   \n",
       "17      58109         zip  00795; AL; Auburn-Opelika; Lee County; Juana Diaz   \n",
       "23      58129         zip  00907; AR; Forrest City; Saint Francis County;...   \n",
       "91      92526         zip  78584; TX; Rio Grande City-Roma, TX; Starr County   \n",
       "\n",
       "      zip state  \n",
       "9   00612    MI  \n",
       "13  00693    PA  \n",
       "17  00795    AL  \n",
       "23  00907    AR  \n",
       "91  78584    TX  "
      ]
     },
     "execution_count": 24,
     "metadata": {},
     "output_type": "execute_result"
    }
   ],
   "source": [
    "dfRegions['state']=dfRegions['region'].str.split(';',n=1,expand=True)[1].str.split(';',n=1,expand=True)[0].str.strip(' ')\n",
    "dfRegions.head()"
   ]
  },
  {
   "cell_type": "code",
   "execution_count": 26,
   "id": "e1f53527-d77b-4409-bbc2-397b7fae4749",
   "metadata": {},
   "outputs": [
    {
     "data": {
      "text/plain": [
       "region_id      642\n",
       "region_type    642\n",
       "region         642\n",
       "zip            642\n",
       "state          642\n",
       "dtype: int64"
      ]
     },
     "execution_count": 26,
     "metadata": {},
     "output_type": "execute_result"
    }
   ],
   "source": [
    "dfRegions=dfRegions.loc[dfRegions['state']=='OK',:]\n",
    "dfRegions.count()"
   ]
  },
  {
   "cell_type": "code",
   "execution_count": 28,
   "id": "6524fa08-8ccc-4890-becd-9b1f92fe1be0",
   "metadata": {},
   "outputs": [
    {
     "name": "stdout",
     "output_type": "stream",
     "text": [
      "  indicator_id  region_id        date          value region_type  \\\n",
      "0         ZSFH      89925  2000-01-31  104420.426693         zip   \n",
      "1         ZSFH      89925  1996-01-31   84158.000000         zip   \n",
      "2         ZSFH      89925  1996-02-29   84299.000000         zip   \n",
      "3         ZSFH      89925  1996-03-31   84424.000000         zip   \n",
      "4         ZSFH      89925  1996-04-30   84685.000000         zip   \n",
      "\n",
      "                                             region    zip state  \n",
      "0  73099;OK;Oklahoma City, OK;Yukon;Canadian County  73099    OK  \n",
      "1  73099;OK;Oklahoma City, OK;Yukon;Canadian County  73099    OK  \n",
      "2  73099;OK;Oklahoma City, OK;Yukon;Canadian County  73099    OK  \n",
      "3  73099;OK;Oklahoma City, OK;Yukon;Canadian County  73099    OK  \n",
      "4  73099;OK;Oklahoma City, OK;Yukon;Canadian County  73099    OK  \n",
      "indicator_id    1011594\n",
      "region_id       1011594\n",
      "date            1011594\n",
      "value           1011594\n",
      "region_type     1011594\n",
      "region          1011594\n",
      "zip             1011594\n",
      "state           1011594\n",
      "dtype: int64\n"
     ]
    }
   ],
   "source": [
    "dfValue=pd.merge(df,dfRegions,on=\"region_id\")\n",
    "print(dfValue.head())\n",
    "print(dfValue.count())\n"
   ]
  },
  {
   "cell_type": "code",
   "execution_count": 29,
   "id": "c8cce786-d856-4f2a-b0cc-b1b1decc5439",
   "metadata": {},
   "outputs": [
    {
     "data": {
      "text/plain": [
       "indicator_id    151555917\n",
       "region_id       151555917\n",
       "date            151555917\n",
       "value           151555917\n",
       "dtype: int64"
      ]
     },
     "execution_count": 29,
     "metadata": {},
     "output_type": "execute_result"
    }
   ],
   "source": [
    "df.count()"
   ]
  },
  {
   "cell_type": "code",
   "execution_count": 30,
   "id": "b4d21791-1c25-4a32-9c46-6e961870203c",
   "metadata": {},
   "outputs": [
    {
     "ename": "SyntaxError",
     "evalue": "invalid syntax (2324374729.py, line 1)",
     "output_type": "error",
     "traceback": [
      "\u001b[0;36m  Cell \u001b[0;32mIn[30], line 1\u001b[0;36m\u001b[0m\n\u001b[0;31m    dfValue=dfValue.loc[dfValue['date']>'2012-12-31',;]\u001b[0m\n\u001b[0m                                                     ^\u001b[0m\n\u001b[0;31mSyntaxError\u001b[0m\u001b[0;31m:\u001b[0m invalid syntax\n"
     ]
    }
   ],
   "source": [
    "dfValue=dfValue.loc[dfValue['date']>'2012-12-31',;]\n",
    "dfValue.head()"
   ]
  },
  {
   "cell_type": "code",
   "execution_count": 32,
   "id": "fa1e3ad5-4083-4d55-8666-03274a425169",
   "metadata": {},
   "outputs": [
    {
     "data": {
      "text/plain": [
       "indicator_id     object\n",
       "region_id         int64\n",
       "date             object\n",
       "value           float64\n",
       "region_type      object\n",
       "region           object\n",
       "zip              object\n",
       "state            object\n",
       "dtype: object"
      ]
     },
     "execution_count": 32,
     "metadata": {},
     "output_type": "execute_result"
    }
   ],
   "source": [
    "dfValue.dtypes"
   ]
  },
  {
   "cell_type": "code",
   "execution_count": 35,
   "id": "d0d8b36a-49c3-42db-af95-aeae3cc7525e",
   "metadata": {},
   "outputs": [
    {
     "data": {
      "text/plain": [
       "indicator_id            object\n",
       "region_id                int64\n",
       "date            datetime64[ns]\n",
       "value                  float64\n",
       "region_type             object\n",
       "region                  object\n",
       "zip                     object\n",
       "state                   object\n",
       "dtype: object"
      ]
     },
     "execution_count": 35,
     "metadata": {},
     "output_type": "execute_result"
    }
   ],
   "source": [
    "dfValue['date'] = pd.to_datetime(df['date'])\n",
    "dfValue.dtypes"
   ]
  },
  {
   "cell_type": "code",
   "execution_count": 38,
   "id": "c7fc540e-75b5-437d-9594-4c8e71f89348",
   "metadata": {},
   "outputs": [
    {
     "data": {
      "text/html": [
       "<div>\n",
       "<style scoped>\n",
       "    .dataframe tbody tr th:only-of-type {\n",
       "        vertical-align: middle;\n",
       "    }\n",
       "\n",
       "    .dataframe tbody tr th {\n",
       "        vertical-align: top;\n",
       "    }\n",
       "\n",
       "    .dataframe thead th {\n",
       "        text-align: right;\n",
       "    }\n",
       "</style>\n",
       "<table border=\"1\" class=\"dataframe\">\n",
       "  <thead>\n",
       "    <tr style=\"text-align: right;\">\n",
       "      <th></th>\n",
       "      <th>indicator_id</th>\n",
       "      <th>region_id</th>\n",
       "      <th>date</th>\n",
       "      <th>value</th>\n",
       "      <th>region_type</th>\n",
       "      <th>region</th>\n",
       "      <th>zip</th>\n",
       "      <th>state</th>\n",
       "    </tr>\n",
       "  </thead>\n",
       "  <tbody>\n",
       "    <tr>\n",
       "      <th>34</th>\n",
       "      <td>ZSFH</td>\n",
       "      <td>89925</td>\n",
       "      <td>2019-09-30</td>\n",
       "      <td>94141.0</td>\n",
       "      <td>zip</td>\n",
       "      <td>73099;OK;Oklahoma City, OK;Yukon;Canadian County</td>\n",
       "      <td>73099</td>\n",
       "      <td>OK</td>\n",
       "    </tr>\n",
       "    <tr>\n",
       "      <th>35</th>\n",
       "      <td>ZSFH</td>\n",
       "      <td>89925</td>\n",
       "      <td>2019-09-30</td>\n",
       "      <td>94445.0</td>\n",
       "      <td>zip</td>\n",
       "      <td>73099;OK;Oklahoma City, OK;Yukon;Canadian County</td>\n",
       "      <td>73099</td>\n",
       "      <td>OK</td>\n",
       "    </tr>\n",
       "    <tr>\n",
       "      <th>36</th>\n",
       "      <td>ZSFH</td>\n",
       "      <td>89925</td>\n",
       "      <td>2019-09-30</td>\n",
       "      <td>94711.0</td>\n",
       "      <td>zip</td>\n",
       "      <td>73099;OK;Oklahoma City, OK;Yukon;Canadian County</td>\n",
       "      <td>73099</td>\n",
       "      <td>OK</td>\n",
       "    </tr>\n",
       "    <tr>\n",
       "      <th>37</th>\n",
       "      <td>ZSFH</td>\n",
       "      <td>89925</td>\n",
       "      <td>2019-09-30</td>\n",
       "      <td>94782.0</td>\n",
       "      <td>zip</td>\n",
       "      <td>73099;OK;Oklahoma City, OK;Yukon;Canadian County</td>\n",
       "      <td>73099</td>\n",
       "      <td>OK</td>\n",
       "    </tr>\n",
       "    <tr>\n",
       "      <th>38</th>\n",
       "      <td>ZSFH</td>\n",
       "      <td>89925</td>\n",
       "      <td>2019-09-30</td>\n",
       "      <td>95009.0</td>\n",
       "      <td>zip</td>\n",
       "      <td>73099;OK;Oklahoma City, OK;Yukon;Canadian County</td>\n",
       "      <td>73099</td>\n",
       "      <td>OK</td>\n",
       "    </tr>\n",
       "  </tbody>\n",
       "</table>\n",
       "</div>"
      ],
      "text/plain": [
       "   indicator_id  region_id       date    value region_type  \\\n",
       "34         ZSFH      89925 2019-09-30  94141.0         zip   \n",
       "35         ZSFH      89925 2019-09-30  94445.0         zip   \n",
       "36         ZSFH      89925 2019-09-30  94711.0         zip   \n",
       "37         ZSFH      89925 2019-09-30  94782.0         zip   \n",
       "38         ZSFH      89925 2019-09-30  95009.0         zip   \n",
       "\n",
       "                                              region    zip state  \n",
       "34  73099;OK;Oklahoma City, OK;Yukon;Canadian County  73099    OK  \n",
       "35  73099;OK;Oklahoma City, OK;Yukon;Canadian County  73099    OK  \n",
       "36  73099;OK;Oklahoma City, OK;Yukon;Canadian County  73099    OK  \n",
       "37  73099;OK;Oklahoma City, OK;Yukon;Canadian County  73099    OK  \n",
       "38  73099;OK;Oklahoma City, OK;Yukon;Canadian County  73099    OK  "
      ]
     },
     "execution_count": 38,
     "metadata": {},
     "output_type": "execute_result"
    }
   ],
   "source": [
    "dfValue=dfValue.loc[dfValue['date']>'2012-12-31',:]\n",
    "dfValue.head(25)"
   ]
  },
  {
   "cell_type": "code",
   "execution_count": 39,
   "id": "0a002233-ec4e-4609-ae59-7c1d319863e6",
   "metadata": {},
   "outputs": [
    {
     "name": "stdout",
     "output_type": "stream",
     "text": [
      "2013-01-31 00:00:00\n",
      "2023-10-31 00:00:00\n",
      "indicator_id    488591\n",
      "region_id       488591\n",
      "date            488591\n",
      "value           488591\n",
      "region_type     488591\n",
      "region          488591\n",
      "zip             488591\n",
      "state           488591\n",
      "dtype: int64\n"
     ]
    }
   ],
   "source": [
    "print(dfValue['date'].min())\n",
    "print(dfValue['date'].max())\n",
    "print(dfValue.count())"
   ]
  },
  {
   "cell_type": "code",
   "execution_count": 42,
   "id": "a7c0ba10-de89-4b4b-85a1-19aa8eeada87",
   "metadata": {},
   "outputs": [
    {
     "data": {
      "text/plain": [
       "<DatetimeArray>\n",
       "['2019-09-30 00:00:00', '2013-01-31 00:00:00', '2013-02-28 00:00:00',\n",
       " '2013-03-31 00:00:00', '2013-04-30 00:00:00', '2013-05-31 00:00:00',\n",
       " '2013-06-30 00:00:00', '2013-07-31 00:00:00', '2013-08-31 00:00:00',\n",
       " '2013-09-30 00:00:00',\n",
       " ...\n",
       " '2023-02-28 00:00:00', '2023-03-31 00:00:00', '2023-04-30 00:00:00',\n",
       " '2023-05-31 00:00:00', '2023-06-30 00:00:00', '2023-07-31 00:00:00',\n",
       " '2023-08-31 00:00:00', '2023-09-30 00:00:00', '2023-10-31 00:00:00',\n",
       " '2015-09-30 00:00:00']\n",
       "Length: 130, dtype: datetime64[ns]"
      ]
     },
     "execution_count": 42,
     "metadata": {},
     "output_type": "execute_result"
    }
   ],
   "source": [
    "dfValue['date'].unique()"
   ]
  }
 ],
 "metadata": {
  "kernelspec": {
   "display_name": "Python 3 (ipykernel)",
   "language": "python",
   "name": "python3"
  },
  "language_info": {
   "codemirror_mode": {
    "name": "ipython",
    "version": 3
   },
   "file_extension": ".py",
   "mimetype": "text/x-python",
   "name": "python",
   "nbconvert_exporter": "python",
   "pygments_lexer": "ipython3",
   "version": "3.10.13"
  }
 },
 "nbformat": 4,
 "nbformat_minor": 5
}
